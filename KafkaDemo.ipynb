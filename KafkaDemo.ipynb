{
 "cells": [
  {
   "cell_type": "markdown",
   "id": "59b2d799",
   "metadata": {},
   "source": [
    "# Kafka Demo\n",
    "\n",
    "### Connect to Kafka Broker Server \n",
    "```\n",
    "ssh -L <local_port>:localhost:<remote_port> <user>@<remote_server> -NTf\n",
    "```\n",
    "Find how to connect to Kafka server on Canvas lab 2 assignment page.\n",
    "\n",
    "### To kill connection\n",
    "```\n",
    "lsof -ti:<local_port> | xargs kill -9\n",
    "```\n",
    "\n",
    "### Setup\n",
    "```\n",
    "python -m pip install kafka-python\n",
    "```"
   ]
  },
  {
   "cell_type": "code",
   "execution_count": 1,
   "id": "670d97de",
   "metadata": {},
   "outputs": [],
   "source": [
    "# !ssh -v -L 9092:localhost:9092 kafkastudent@48.217.83.110 -NTf\n",
    "# pw: soqzuV-bunmu0"
   ]
  },
  {
   "cell_type": "code",
   "execution_count": 1,
   "id": "560fd2bb",
   "metadata": {
    "ExecuteTime": {
     "end_time": "2024-09-03T20:53:48.295316Z",
     "start_time": "2024-09-03T20:53:48.290645Z"
    }
   },
   "outputs": [],
   "source": [
    "import os\n",
    "from datetime import datetime\n",
    "from json import dumps, loads\n",
    "from time import sleep\n",
    "from random import randint\n",
    "from kafka import KafkaConsumer, KafkaProducer\n",
    "\n",
    "# Update this for your own recitation section :)\n",
    "topic = 'recitation-f' # x could be b, c, d, e, f"
   ]
  },
  {
   "cell_type": "markdown",
   "id": "0eb9dd6f",
   "metadata": {},
   "source": [
    "### Producer Mode -> Writes Data to Broker"
   ]
  },
  {
   "cell_type": "code",
   "execution_count": 8,
   "id": "aa4679a1",
   "metadata": {},
   "outputs": [
    {
     "name": "stdout",
     "output_type": "stream",
     "text": [
      "Writing to Kafka Broker\n",
      "Writing: 2025-01-23 12:30:07,New York,20ºC\n",
      "Writing: 2025-01-23 12:30:08,Tokyo,18ºC\n",
      "Writing: 2025-01-23 12:30:09,New York,21ºC\n",
      "Writing: 2025-01-23 12:30:10,Tokyo,24ºC\n",
      "Writing: 2025-01-23 12:30:11,Tokyo,29ºC\n",
      "Writing: 2025-01-23 12:30:12,Tokyo,32ºC\n",
      "Writing: 2025-01-23 12:30:13,Tokyo,22ºC\n",
      "Writing: 2025-01-23 12:30:14,Tokyo,25ºC\n",
      "Writing: 2025-01-23 12:30:15,Singapore,20ºC\n",
      "Writing: 2025-01-23 12:30:16,Tokyo,28ºC\n"
     ]
    }
   ],
   "source": [
    "# Create a producer to write data to kafka\n",
    "# Ref: https://kafka-python.readthedocs.io/en/master/apidoc/KafkaProducer.html\n",
    "\n",
    "# [TODO]: Replace '...' with the address of your Kafka bootstrap server\n",
    "producer = KafkaProducer(bootstrap_servers=['localhost:9092'],\n",
    "                        value_serializer=lambda x: dumps(x).encode('utf-8'))\n",
    "\n",
    "# [TODO]: Add cities of your choice\n",
    "cities = [\"Singapore\", \"Tokyo\", \"New York\"]\n",
    "\n",
    "# Write data via the producer\n",
    "print(\"Writing to Kafka Broker\")\n",
    "for i in range(10):\n",
    "    data = f'{datetime.now().strftime(\"%Y-%m-%d %H:%M:%S\")},{cities[randint(0,len(cities)-1)]},{randint(18, 32)}ºC'\n",
    "    print(f\"Writing: {data}\")\n",
    "    producer.send(topic=topic, value=data)\n",
    "    sleep(1)"
   ]
  },
  {
   "cell_type": "markdown",
   "id": "a45bbace",
   "metadata": {},
   "source": [
    "### Consumer Mode -> Reads Data from Broker"
   ]
  },
  {
   "cell_type": "code",
   "execution_count": 11,
   "id": "a5e2f59f",
   "metadata": {},
   "outputs": [
    {
     "name": "stdout",
     "output_type": "stream",
     "text": [
      "Reading Kafka Broker\n",
      "2025-01-22 22:44:37,Ankara,20ºC\n",
      "2025-01-22 22:44:38,Ankara,22ºC\n",
      "2025-01-22 22:44:39,Barcelona,19ºC\n",
      "2025-01-22 22:44:40,Ankara,30ºC\n",
      "2025-01-22 22:44:41,Ankara,27ºC\n",
      "2025-01-22 22:44:42,Kiev,25ºC\n",
      "2025-01-22 22:44:43,Barcelona,32ºC\n",
      "2025-01-22 22:44:44,Kiev,30ºC\n",
      "2025-01-22 22:44:45,Ankara,24ºC\n",
      "2025-01-22 22:44:47,Barcelona,21ºC\n",
      "2025-01-22 22:57:38,Cairo,27ºC\n",
      "2025-01-22 22:57:39,Vienna,28ºC\n",
      "2025-01-22 22:57:40,Cairo,32ºC\n",
      "2025-01-22 22:57:41,Adelaide,19ºC\n",
      "2025-01-22 22:57:42,Adelaide,20ºC\n",
      "2025-01-22 22:57:43,Cairo,26ºC\n",
      "2025-01-22 22:57:44,Adelaide,27ºC\n",
      "2025-01-22 22:57:45,Vienna,20ºC\n",
      "2025-01-22 22:57:46,Adelaide,21ºC\n",
      "2025-01-22 22:57:47,Adelaide,29ºC\n",
      "2025-01-23 10:07:13,New York,32ºC\n",
      "2025-01-23 10:07:14,Ann Arbor,18ºC\n",
      "2025-01-23 10:07:15,Ann Arbor,23ºC\n",
      "2025-01-23 10:07:16,New York,31ºC\n",
      "2025-01-23 10:07:17,Ann Arbor,30ºC\n",
      "2025-01-23 10:07:18,New York,32ºC\n",
      "2025-01-23 10:07:19,Ann Arbor,22ºC\n",
      "2025-01-23 10:07:20,New York,28ºC\n",
      "2025-01-23 10:07:21,New York,19ºC\n",
      "2025-01-23 10:07:22,Ann Arbor,30ºC\n",
      "2025-01-23 12:20:13,New York,31ºC\n",
      "2025-01-23 12:20:14,Tokyo,22ºC\n",
      "2025-01-23 12:20:15,Tokyo,21ºC\n",
      "2025-01-23 12:20:16,Tokyo,27ºC\n",
      "2025-01-23 12:20:17,Tokyo,32ºC\n",
      "2025-01-23 12:20:18,Tokyo,30ºC\n",
      "2025-01-23 12:20:19,Tokyo,32ºC\n",
      "2025-01-23 12:20:20,New York,25ºC\n",
      "2025-01-23 12:20:21,Tokyo,29ºC\n",
      "2025-01-23 12:20:22,Tokyo,23ºC\n",
      "2025-01-23 12:30:07,New York,20ºC\n",
      "2025-01-23 12:30:08,Tokyo,18ºC\n",
      "2025-01-23 12:30:09,New York,21ºC\n",
      "2025-01-23 12:30:10,Tokyo,24ºC\n",
      "2025-01-23 12:30:11,Tokyo,29ºC\n",
      "2025-01-23 12:30:12,Tokyo,32ºC\n",
      "2025-01-23 12:30:13,Tokyo,22ºC\n",
      "2025-01-23 12:30:14,Tokyo,25ºC\n",
      "2025-01-23 12:30:15,Singapore,20ºC\n",
      "2025-01-23 12:30:16,Tokyo,28ºC\n"
     ]
    }
   ],
   "source": [
    "# Create a consumer to read data from kafka\n",
    "# Ref: https://kafka-python.readthedocs.io/en/master/apidoc/KafkaConsumer.html\n",
    "\n",
    "# [TODO]: Complete the missing ... parameters/arguments using the Kafka documentation\n",
    "consumer = KafkaConsumer(\n",
    "    topic,\n",
    "    bootstrap_servers=['localhost:9092'],\n",
    "    auto_offset_reset='earliest', #Experiment with different values\n",
    "    # Commit that an offset has been read\n",
    "    enable_auto_commit=True,\n",
    "    # How often to tell Kafka, an offset has been read\n",
    "    auto_commit_interval_ms=1000,\n",
    "    consumer_timeout_ms=5000  # NOTE: newly added to save time\n",
    ")\n",
    "\n",
    "print('Reading Kafka Broker')\n",
    "for message in consumer:\n",
    "    message = message.value.decode()\n",
    "    # Default message.value type is bytes!\n",
    "    print(loads(message))\n",
    "    os.system(f\"echo {message} >> kafka_log.csv\")"
   ]
  },
  {
   "cell_type": "markdown",
   "id": "38927152",
   "metadata": {},
   "source": [
    "# Use kcat!\n",
    "It's a CLI (Command Line Interface). Previously known as kafkacat\n",
    "\n",
    "\n",
    "Ref: https://docs.confluent.io/platform/current/app-development/kafkacat-usage.html"
   ]
  },
  {
   "cell_type": "code",
   "execution_count": 3,
   "id": "e19b63da",
   "metadata": {},
   "outputs": [],
   "source": [
    "#kcat command: connect to local Kafka broker, specify a topic, and consume messages from the earliest offset\n",
    "# use in terminal bah\n",
    "!kcat -b localhost:9092 -t recitation-f -C -c1\n"
   ]
  },
  {
   "cell_type": "code",
   "execution_count": null,
   "id": "949f11a5",
   "metadata": {},
   "outputs": [],
   "source": [
    "# ps aux | grep ssh\n",
    "# kill [PID]"
   ]
  }
 ],
 "metadata": {
  "kernelspec": {
   "display_name": "aieng-lab1",
   "language": "python",
   "name": "python3"
  },
  "language_info": {
   "codemirror_mode": {
    "name": "ipython",
    "version": 3
   },
   "file_extension": ".py",
   "mimetype": "text/x-python",
   "name": "python",
   "nbconvert_exporter": "python",
   "pygments_lexer": "ipython3",
   "version": "3.13.1"
  }
 },
 "nbformat": 4,
 "nbformat_minor": 5
}
